{
  "nbformat": 4,
  "nbformat_minor": 0,
  "metadata": {
    "colab": {
      "provenance": [],
      "authorship_tag": "ABX9TyNfbpc0VN0e+pw6R+dGwn8K",
      "include_colab_link": true
    },
    "kernelspec": {
      "name": "python3",
      "display_name": "Python 3"
    },
    "language_info": {
      "name": "python"
    }
  },
  "cells": [
    {
      "cell_type": "markdown",
      "metadata": {
        "id": "view-in-github",
        "colab_type": "text"
      },
      "source": [
        "<a href=\"https://colab.research.google.com/github/grazz00/Badges4-README.md-Profile/blob/master/List_alfabeto_em_Panda.ipynb\" target=\"_parent\"><img src=\"https://colab.research.google.com/assets/colab-badge.svg\" alt=\"Open In Colab\"/></a>"
      ]
    },
    {
      "cell_type": "markdown",
      "source": [
        "Importando o pandas"
      ],
      "metadata": {
        "id": "x3xu8vKe7cAD"
      }
    },
    {
      "cell_type": "code",
      "execution_count": 57,
      "metadata": {
        "id": "irKGARSWuKt9"
      },
      "outputs": [],
      "source": [
        "import pandas as pd\n",
        "import string as st"
      ]
    },
    {
      "cell_type": "code",
      "source": [],
      "metadata": {
        "id": "v7zdSuvrIIN1"
      },
      "execution_count": null,
      "outputs": []
    },
    {
      "cell_type": "code",
      "source": [],
      "metadata": {
        "id": "Z1NcKEX0IJVN"
      },
      "execution_count": null,
      "outputs": []
    },
    {
      "cell_type": "markdown",
      "source": [
        "trabalhando com series\n"
      ],
      "metadata": {
        "id": "Hmz2dqtO7p0L"
      }
    },
    {
      "cell_type": "code",
      "source": [
        "lista = ([4, 5 ,6 ,8,10])"
      ],
      "metadata": {
        "id": "vLZWY0ZZ7jh7"
      },
      "execution_count": 43,
      "outputs": []
    },
    {
      "cell_type": "code",
      "source": [
        "serieA = pd.Series(lista)"
      ],
      "metadata": {
        "id": "5PyAkc1k8N9R"
      },
      "execution_count": 45,
      "outputs": []
    },
    {
      "cell_type": "code",
      "source": [
        "serieA"
      ],
      "metadata": {
        "colab": {
          "base_uri": "https://localhost:8080/"
        },
        "id": "eKFRzlX87xci",
        "outputId": "693243a7-81d7-478b-88bd-721beb21238d"
      },
      "execution_count": 46,
      "outputs": [
        {
          "output_type": "execute_result",
          "data": {
            "text/plain": [
              "0     4\n",
              "1     5\n",
              "2     6\n",
              "3     8\n",
              "4    10\n",
              "dtype: int64"
            ]
          },
          "metadata": {},
          "execution_count": 46
        }
      ]
    },
    {
      "cell_type": "code",
      "source": [
        "serieA = pd.Series (lista, index = ['a', 'b', 'c', 'd','e'])"
      ],
      "metadata": {
        "id": "TP_QV8SD-ZBO"
      },
      "execution_count": 50,
      "outputs": []
    },
    {
      "cell_type": "code",
      "source": [
        "serieA"
      ],
      "metadata": {
        "colab": {
          "base_uri": "https://localhost:8080/"
        },
        "id": "CZr8QpPc-tho",
        "outputId": "7b80eda8-acb5-4065-a3e2-2ce7dc06baf1"
      },
      "execution_count": 21,
      "outputs": [
        {
          "output_type": "execute_result",
          "data": {
            "text/plain": [
              "a    4\n",
              "b    5\n",
              "c    6\n",
              "d    8\n",
              "dtype: int64"
            ]
          },
          "metadata": {},
          "execution_count": 21
        }
      ]
    },
    {
      "cell_type": "code",
      "source": [
        "num = 0\n",
        "listaIndex = []\n",
        "for i in lista:\n",
        "  num = num + 1\n",
        "  listaIndex.append(f'a{num}')"
      ],
      "metadata": {
        "id": "K5UzZHtdBeEa"
      },
      "execution_count": 51,
      "outputs": []
    },
    {
      "cell_type": "code",
      "source": [
        "listaIndex"
      ],
      "metadata": {
        "colab": {
          "base_uri": "https://localhost:8080/"
        },
        "id": "umDWemo-CWjr",
        "outputId": "a07ae134-c026-4297-ada1-02273121d9de"
      },
      "execution_count": 52,
      "outputs": [
        {
          "output_type": "execute_result",
          "data": {
            "text/plain": [
              "['a1', 'a2', 'a3', 'a4', 'a5']"
            ]
          },
          "metadata": {},
          "execution_count": 52
        }
      ]
    },
    {
      "cell_type": "code",
      "source": [
        "serieA = pd.Series(lista, index = listaIndex)"
      ],
      "metadata": {
        "id": "73TqS6AvEcmi"
      },
      "execution_count": 55,
      "outputs": []
    },
    {
      "cell_type": "code",
      "source": [
        "serieA"
      ],
      "metadata": {
        "colab": {
          "base_uri": "https://localhost:8080/"
        },
        "id": "6JTdqTSTE0pC",
        "outputId": "f6f43f50-b447-4c3d-c719-bbc1be0a98c6"
      },
      "execution_count": 58,
      "outputs": [
        {
          "output_type": "execute_result",
          "data": {
            "text/plain": [
              "a1     4\n",
              "a2     5\n",
              "a3     6\n",
              "a4     8\n",
              "a5    10\n",
              "dtype: int64"
            ]
          },
          "metadata": {},
          "execution_count": 58
        }
      ]
    },
    {
      "cell_type": "code",
      "source": [
        "alfabeto = list(st.ascii_lowercase)"
      ],
      "metadata": {
        "id": "7tFpMQu1IKmm"
      },
      "execution_count": 62,
      "outputs": []
    },
    {
      "cell_type": "code",
      "source": [
        "for i in range(30):\n",
        "  if i <=26:\n",
        "    nova_letra = f'{alfabeto[i]}1'\n",
        "  else:\n",
        "    nova_letra = f'{alfabeto[i]}2'\n",
        "alfabeto.append(nova_letra)\n",
        "\n",
        "print(alfabeto)"
      ],
      "metadata": {
        "id": "F6ls767eIezF",
        "outputId": "95cb2f89-72ec-4430-f8f2-8d17eae5bc23",
        "colab": {
          "base_uri": "https://localhost:8080/"
        }
      },
      "execution_count": 65,
      "outputs": [
        {
          "output_type": "stream",
          "name": "stdout",
          "text": [
            "['a', 'b', 'c', 'd', 'e', 'f', 'g', 'h', 'i', 'j', 'k', 'l', 'm', 'n', 'o', 'p', 'q', 'r', 's', 't', 'u', 'v', 'w', 'x', 'y', 'z', 'a1', 'b1', 'c1', 'd1', 'e1', 'f1', 'g1', 'h1', 'i1', 'j1', 'k1', 'l1', 'm1', 'n1', 'o1', 'p1', 'q1', 'r1', 's1', 't1', 'u1', 'v1', 'w1', 'x1', 'y1', 'z1', 'a11', 'b11', 'c11', 'd11', 'a1', 'b1', 'c1', 'd1', 'e1', 'f1', 'g1', 'h1', 'i1', 'j1', 'k1', 'l1', 'm1', 'n1', 'o1', 'p1', 'q1', 'r1', 's1', 't1', 'u1', 'v1', 'w1', 'x1', 'y1', 'z1', 'a11', 'b12', 'c12', 'd12', 'd12']\n"
          ]
        }
      ]
    },
    {
      "cell_type": "code",
      "source": [
        "indiceAlfabeto = []\n",
        "for i in range(len(lista)):\n",
        "  indiceAlfabeto.append(alfabeto[i])\n",
        "\n",
        "indiceAlfabeto"
      ],
      "metadata": {
        "id": "1lZg8fpkK7Js",
        "outputId": "6769b940-c27f-472d-ff44-12948fdb2511",
        "colab": {
          "base_uri": "https://localhost:8080/"
        }
      },
      "execution_count": 68,
      "outputs": [
        {
          "output_type": "execute_result",
          "data": {
            "text/plain": [
              "['a', 'b', 'c', 'd', 'e']"
            ]
          },
          "metadata": {},
          "execution_count": 68
        }
      ]
    },
    {
      "cell_type": "code",
      "source": [
        "SerieA = pd.Series(lista, index= indiceAlfabeto)"
      ],
      "metadata": {
        "id": "7lKC8V1fOLFR"
      },
      "execution_count": 69,
      "outputs": []
    },
    {
      "cell_type": "code",
      "source": [
        "serieA"
      ],
      "metadata": {
        "id": "t8iKNsS2Oa4u",
        "outputId": "a13d68f6-f9a5-4b58-e279-dcedcfeadb10",
        "colab": {
          "base_uri": "https://localhost:8080/"
        }
      },
      "execution_count": 70,
      "outputs": [
        {
          "output_type": "execute_result",
          "data": {
            "text/plain": [
              "a1     4\n",
              "a2     5\n",
              "a3     6\n",
              "a4     8\n",
              "a5    10\n",
              "dtype: int64"
            ]
          },
          "metadata": {},
          "execution_count": 70
        }
      ]
    }
  ]
}