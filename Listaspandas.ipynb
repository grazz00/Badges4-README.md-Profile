{
  "nbformat": 4,
  "nbformat_minor": 0,
  "metadata": {
    "colab": {
      "provenance": [],
      "authorship_tag": "ABX9TyMbA5tA6+C2OY5aARgoOR0h",
      "include_colab_link": true
    },
    "kernelspec": {
      "name": "python3",
      "display_name": "Python 3"
    },
    "language_info": {
      "name": "python"
    }
  },
  "cells": [
    {
      "cell_type": "markdown",
      "metadata": {
        "id": "view-in-github",
        "colab_type": "text"
      },
      "source": [
        "<a href=\"https://colab.research.google.com/github/grazz00/Badges4-README.md-Profile/blob/master/Listaspandas.ipynb\" target=\"_parent\"><img src=\"https://colab.research.google.com/assets/colab-badge.svg\" alt=\"Open In Colab\"/></a>"
      ]
    },
    {
      "cell_type": "markdown",
      "source": [
        "Importando o pandas"
      ],
      "metadata": {
        "id": "x3xu8vKe7cAD"
      }
    },
    {
      "cell_type": "code",
      "execution_count": 16,
      "metadata": {
        "id": "irKGARSWuKt9"
      },
      "outputs": [],
      "source": [
        "import pandas as pd"
      ]
    },
    {
      "cell_type": "markdown",
      "source": [
        "trabalhando com series\n"
      ],
      "metadata": {
        "id": "Hmz2dqtO7p0L"
      }
    },
    {
      "cell_type": "code",
      "source": [
        "lista = ([4, 5 ,6 ,8,10])"
      ],
      "metadata": {
        "id": "vLZWY0ZZ7jh7"
      },
      "execution_count": 43,
      "outputs": []
    },
    {
      "cell_type": "code",
      "source": [
        "serieA = pd.Series(lista)"
      ],
      "metadata": {
        "id": "5PyAkc1k8N9R"
      },
      "execution_count": 45,
      "outputs": []
    },
    {
      "cell_type": "code",
      "source": [
        "serieA"
      ],
      "metadata": {
        "colab": {
          "base_uri": "https://localhost:8080/"
        },
        "id": "eKFRzlX87xci",
        "outputId": "693243a7-81d7-478b-88bd-721beb21238d"
      },
      "execution_count": 46,
      "outputs": [
        {
          "output_type": "execute_result",
          "data": {
            "text/plain": [
              "0     4\n",
              "1     5\n",
              "2     6\n",
              "3     8\n",
              "4    10\n",
              "dtype: int64"
            ]
          },
          "metadata": {},
          "execution_count": 46
        }
      ]
    },
    {
      "cell_type": "code",
      "source": [
        "serieA = pd.Series (lista, index = ['a', 'b', 'c', 'd','e'])"
      ],
      "metadata": {
        "id": "TP_QV8SD-ZBO"
      },
      "execution_count": 50,
      "outputs": []
    },
    {
      "cell_type": "code",
      "source": [
        "serieA"
      ],
      "metadata": {
        "colab": {
          "base_uri": "https://localhost:8080/"
        },
        "id": "CZr8QpPc-tho",
        "outputId": "7b80eda8-acb5-4065-a3e2-2ce7dc06baf1"
      },
      "execution_count": 21,
      "outputs": [
        {
          "output_type": "execute_result",
          "data": {
            "text/plain": [
              "a    4\n",
              "b    5\n",
              "c    6\n",
              "d    8\n",
              "dtype: int64"
            ]
          },
          "metadata": {},
          "execution_count": 21
        }
      ]
    },
    {
      "cell_type": "code",
      "source": [
        "num = 0\n",
        "listaIndex = []\n",
        "for i in lista:\n",
        "  num = num + 1\n",
        "  listaIndex.append(f'a{num}')"
      ],
      "metadata": {
        "id": "K5UzZHtdBeEa"
      },
      "execution_count": 51,
      "outputs": []
    },
    {
      "cell_type": "code",
      "source": [
        "listaIndex"
      ],
      "metadata": {
        "colab": {
          "base_uri": "https://localhost:8080/"
        },
        "id": "umDWemo-CWjr",
        "outputId": "a07ae134-c026-4297-ada1-02273121d9de"
      },
      "execution_count": 52,
      "outputs": [
        {
          "output_type": "execute_result",
          "data": {
            "text/plain": [
              "['a1', 'a2', 'a3', 'a4', 'a5']"
            ]
          },
          "metadata": {},
          "execution_count": 52
        }
      ]
    },
    {
      "cell_type": "code",
      "source": [
        "serieA = pd.Series(lista, index = listaIndex)"
      ],
      "metadata": {
        "id": "73TqS6AvEcmi"
      },
      "execution_count": 55,
      "outputs": []
    },
    {
      "cell_type": "code",
      "source": [
        "serieA"
      ],
      "metadata": {
        "id": "6JTdqTSTE0pC",
        "outputId": "fc121a68-39fb-4369-c1b4-3189c93c9498",
        "colab": {
          "base_uri": "https://localhost:8080/"
        }
      },
      "execution_count": 56,
      "outputs": [
        {
          "output_type": "execute_result",
          "data": {
            "text/plain": [
              "a1     4\n",
              "a2     5\n",
              "a3     6\n",
              "a4     8\n",
              "a5    10\n",
              "dtype: int64"
            ]
          },
          "metadata": {},
          "execution_count": 56
        }
      ]
    }
  ]
}